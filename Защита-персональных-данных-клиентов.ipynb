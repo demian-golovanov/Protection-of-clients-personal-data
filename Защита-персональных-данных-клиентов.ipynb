{
 "cells": [
  {
   "cell_type": "markdown",
   "id": "429d3edc",
   "metadata": {},
   "source": [
    "<b>Привет, Демьян!</b>\n",
    "\n",
    "Меня зовут Харочкина Екатерина, и я буду проверять твой проект. Давай общаться на «ты», но если это неудобно, пожалуйста, сообщи. Моя основная цель — не указать на совершенные тобою ошибки, а поделиться своим опытом и помочь тебе совершенствоваться как профессионалу.\n",
    "\n",
    "Ты подготовил замечательный проект, но есть аспекты, которые еще можно улучшить. Я буду использовать комментарии с цветовой разметкой. Пожалуйста, **не перемещай, не изменяй и не удаляй их**. Это поможет выполнить повторную проверку твоего проекта оперативнее.\n",
    "\n",
    "<div class=\"alert alert-danger\">\n",
    "<b>Комментарий ревьюера №1</b> ❌\n",
    "    \n",
    "Таким комментарием выделены самые важные замечания. Без их отработки проект не будет принят.\n",
    "</div>\n",
    "\n",
    "<div class=\"alert alert-warning\">\n",
    "<b>Комментарий ревьюера №1</b> ⚠️\n",
    "    \n",
    "Таким комментарием выделены небольшие замечания и рекомендации, которые будет хорошо учесть.\n",
    "</div>\n",
    "\n",
    "<div class=\"alert alert-success\">\n",
    "<b>Комментарий ревьюера №1</b> ✅\n",
    "    \n",
    "Таким комментарием выделены удачные решения🙂\n",
    "</div>\n",
    "\n",
    "Свои комментарии ты можешь помечать синим цветом.\n",
    "\n",
    "<div class=\"alert alert-info\">\n",
    "<b>Комментарий студента №1</b>\n",
    "    \n",
    "Так ты можешь оформить свой комментарий\n",
    "</div>\n",
    "\n",
    "Давай работать над проектом в диалоге: если ты **что-то меняешь** в проекте по моим рекомендациям — **пиши об этом**. После того, как ты все доработаешь, я смогу принять твой проект!) "
   ]
  },
  {
   "cell_type": "markdown",
   "id": "90b27219-ba35-4372-b278-4a3f897d313a",
   "metadata": {},
   "source": [
    "<h1> Защита персональных данных клиентов"
   ]
  },
  {
   "cell_type": "markdown",
   "id": "ab927ed7-d6fd-4ac4-84b2-5c1d722014fe",
   "metadata": {},
   "source": [
    "**Цели проекта:**\n",
    "\n",
    "1. Защитить данные клиентов страховой компании «Хоть потоп». Разработать такой метод преобразования данных, чтобы по ним было сложно восстановить персональную информацию. Обосновать корректность его работы.\n",
    "\n",
    "2. Защитить данные, чтобы при преобразовании качество моделей машинного обучения не ухудшилось. Подбирать наилучшую модель не требуется.\n",
    "\n",
    "**Описание данных:**\n",
    "\n",
    "- Набор данных находится в файле `/datasets/insurance.csv.`\n",
    "- Признаки: пол, возраст и зарплата застрахованного, количество членов его семьи.\n",
    "- Целевой признак: количество страховых выплат клиенту за последние 5 лет.\n",
    "\n",
    "**Этапы проекта:**\n",
    "\n",
    "1. [Загрузка данных](#1)\n",
    "\n",
    "2. [Умножение матриц](#2)\n",
    "\n",
    "3. [Алгоритм преобразования](#3)\n",
    "\n",
    "4. [Проверка алгоритма](#4)"
   ]
  },
  {
   "cell_type": "markdown",
   "id": "5a4687c8",
   "metadata": {},
   "source": [
    "<div class=\"alert alert-block alert-success\">\n",
    "<b>Комментарий ревьюера №1</b> ✅\n",
    "    \n",
    "Хорошее начало!\n",
    "</div>"
   ]
  },
  {
   "cell_type": "markdown",
   "id": "0f7a286b-4073-46de-8f57-b58bd6df0ba2",
   "metadata": {},
   "source": [
    "<h2><a id='1'></a> Загрузка данных"
   ]
  },
  {
   "cell_type": "markdown",
   "id": "ee4dec30-c5b9-4b8e-83ef-af036a6b97dd",
   "metadata": {},
   "source": [
    "Импортируем необходимые библиотеки для будущей работы. Считаем данные из csv-файла в переменную `df` и изучим их.\n",
    "\n",
    "Путь к файлу: `/datasets/insurance.csv`"
   ]
  },
  {
   "cell_type": "code",
   "execution_count": 1,
   "id": "284d7f2b-49e5-4163-b85f-7a35ac14ce4f",
   "metadata": {},
   "outputs": [],
   "source": [
    "import pandas as pd\n",
    "import numpy as np\n",
    "import matplotlib.pyplot as plt\n",
    "import seaborn as sns\n",
    "\n",
    "from sklearn.linear_model import LinearRegression\n",
    "from sklearn.metrics import r2_score\n",
    "\n",
    "sns.set_style('darkgrid')"
   ]
  },
  {
   "cell_type": "code",
   "execution_count": 2,
   "id": "5c24f48f-cd64-4958-a9b1-f86cf0286c21",
   "metadata": {},
   "outputs": [],
   "source": [
    "try:\n",
    "    df = pd.read_csv('C:\\jupyter projects\\linal\\insurance.csv')\n",
    "except:\n",
    "    df = pd.read_csv('/datasets/insurance.csv')"
   ]
  },
  {
   "cell_type": "code",
   "execution_count": 3,
   "id": "5bfcc679-787f-4f49-a25a-ac39a8f4be56",
   "metadata": {
    "scrolled": false
   },
   "outputs": [
    {
     "name": "stdout",
     "output_type": "stream",
     "text": [
      "Размерность датасета:(5000, 5)\n",
      "\n",
      "Дубликаты: 153\n",
      "\n",
      "Пропущенные значения:\n",
      "Пол                  0\n",
      "Возраст              0\n",
      "Зарплата             0\n",
      "Члены семьи          0\n",
      "Страховые выплаты    0\n",
      "dtype: int64\n",
      "\n",
      "<class 'pandas.core.frame.DataFrame'>\n",
      "RangeIndex: 5000 entries, 0 to 4999\n",
      "Data columns (total 5 columns):\n",
      " #   Column             Non-Null Count  Dtype  \n",
      "---  ------             --------------  -----  \n",
      " 0   Пол                5000 non-null   int64  \n",
      " 1   Возраст            5000 non-null   float64\n",
      " 2   Зарплата           5000 non-null   float64\n",
      " 3   Члены семьи        5000 non-null   int64  \n",
      " 4   Страховые выплаты  5000 non-null   int64  \n",
      "dtypes: float64(2), int64(3)\n",
      "memory usage: 195.4 KB\n"
     ]
    },
    {
     "data": {
      "text/plain": [
       "None"
      ]
     },
     "metadata": {},
     "output_type": "display_data"
    },
    {
     "data": {
      "text/html": [
       "<div>\n",
       "<style scoped>\n",
       "    .dataframe tbody tr th:only-of-type {\n",
       "        vertical-align: middle;\n",
       "    }\n",
       "\n",
       "    .dataframe tbody tr th {\n",
       "        vertical-align: top;\n",
       "    }\n",
       "\n",
       "    .dataframe thead th {\n",
       "        text-align: right;\n",
       "    }\n",
       "</style>\n",
       "<table border=\"1\" class=\"dataframe\">\n",
       "  <thead>\n",
       "    <tr style=\"text-align: right;\">\n",
       "      <th></th>\n",
       "      <th>Пол</th>\n",
       "      <th>Возраст</th>\n",
       "      <th>Зарплата</th>\n",
       "      <th>Члены семьи</th>\n",
       "      <th>Страховые выплаты</th>\n",
       "    </tr>\n",
       "  </thead>\n",
       "  <tbody>\n",
       "    <tr>\n",
       "      <th>count</th>\n",
       "      <td>5000.000000</td>\n",
       "      <td>5000.000000</td>\n",
       "      <td>5000.000000</td>\n",
       "      <td>5000.000000</td>\n",
       "      <td>5000.000000</td>\n",
       "    </tr>\n",
       "    <tr>\n",
       "      <th>mean</th>\n",
       "      <td>0.499000</td>\n",
       "      <td>30.952800</td>\n",
       "      <td>39916.360000</td>\n",
       "      <td>1.194200</td>\n",
       "      <td>0.148000</td>\n",
       "    </tr>\n",
       "    <tr>\n",
       "      <th>std</th>\n",
       "      <td>0.500049</td>\n",
       "      <td>8.440807</td>\n",
       "      <td>9900.083569</td>\n",
       "      <td>1.091387</td>\n",
       "      <td>0.463183</td>\n",
       "    </tr>\n",
       "    <tr>\n",
       "      <th>min</th>\n",
       "      <td>0.000000</td>\n",
       "      <td>18.000000</td>\n",
       "      <td>5300.000000</td>\n",
       "      <td>0.000000</td>\n",
       "      <td>0.000000</td>\n",
       "    </tr>\n",
       "    <tr>\n",
       "      <th>25%</th>\n",
       "      <td>0.000000</td>\n",
       "      <td>24.000000</td>\n",
       "      <td>33300.000000</td>\n",
       "      <td>0.000000</td>\n",
       "      <td>0.000000</td>\n",
       "    </tr>\n",
       "    <tr>\n",
       "      <th>50%</th>\n",
       "      <td>0.000000</td>\n",
       "      <td>30.000000</td>\n",
       "      <td>40200.000000</td>\n",
       "      <td>1.000000</td>\n",
       "      <td>0.000000</td>\n",
       "    </tr>\n",
       "    <tr>\n",
       "      <th>75%</th>\n",
       "      <td>1.000000</td>\n",
       "      <td>37.000000</td>\n",
       "      <td>46600.000000</td>\n",
       "      <td>2.000000</td>\n",
       "      <td>0.000000</td>\n",
       "    </tr>\n",
       "    <tr>\n",
       "      <th>max</th>\n",
       "      <td>1.000000</td>\n",
       "      <td>65.000000</td>\n",
       "      <td>79000.000000</td>\n",
       "      <td>6.000000</td>\n",
       "      <td>5.000000</td>\n",
       "    </tr>\n",
       "  </tbody>\n",
       "</table>\n",
       "</div>"
      ],
      "text/plain": [
       "               Пол      Возраст      Зарплата  Члены семьи  Страховые выплаты\n",
       "count  5000.000000  5000.000000   5000.000000  5000.000000        5000.000000\n",
       "mean      0.499000    30.952800  39916.360000     1.194200           0.148000\n",
       "std       0.500049     8.440807   9900.083569     1.091387           0.463183\n",
       "min       0.000000    18.000000   5300.000000     0.000000           0.000000\n",
       "25%       0.000000    24.000000  33300.000000     0.000000           0.000000\n",
       "50%       0.000000    30.000000  40200.000000     1.000000           0.000000\n",
       "75%       1.000000    37.000000  46600.000000     2.000000           0.000000\n",
       "max       1.000000    65.000000  79000.000000     6.000000           5.000000"
      ]
     },
     "metadata": {},
     "output_type": "display_data"
    },
    {
     "data": {
      "image/png": "[encoded data removed]",
      "text/plain": [
       "<Figure size 1080x1800 with 10 Axes>"
      ]
     },
     "metadata": {},
     "output_type": "display_data"
    }
   ],
   "source": [
    "print(f'Размерность датасета:{df.shape}\\n')\n",
    "print(f'Дубликаты: {df.duplicated().sum()}\\n')\n",
    "print(f'Пропущенные значения:\\n{df.isna().sum()}\\n')\n",
    "display(df.info(), \n",
    "       df.describe())\n",
    "\n",
    "plt.figure(figsize=[15, 25])\n",
    "plt.subplots_adjust(top=0.94, wspace=0.5, hspace=0.5)\n",
    "\n",
    "for idx, column_name in enumerate(df.columns):\n",
    "    # boxplot\n",
    "    plt.subplot(5, 2, 2*idx + 1)\n",
    "    sns.boxplot(data=df[column_name], orient='h', color='darkseagreen')\n",
    "\n",
    "    # histplot\n",
    "    plt.subplot(5, 2, 2*idx + 2)\n",
    "    sns.histplot(df[column_name], color='royalblue', kde=True)\n",
    "    \n",
    "    # title\n",
    "    y_position = 1 - (0.4+idx) / 5 \n",
    "    plt.gcf().text(0.5, y_position, column_name.upper(), ha='center', fontsize=10)\n",
    "\n",
    "plt.show();"
   ]
  },
  {
   "cell_type": "markdown",
   "id": "85d11b71",
   "metadata": {},
   "source": [
    "<div class=\"alert alert-warning\">\n",
    "<b>Комментарий ревьюера №1</b> ⚠️\n",
    "    \n",
    "Часть признаков содержат количественные значения, а часть качественные + есть ненормальное распределение, поэтому матрица корреляции Пирсона здесь не подойдет\n",
    "</div>"
   ]
  },
  {
   "cell_type": "markdown",
   "id": "b7e83e85",
   "metadata": {},
   "source": [
    "<div class=\"alert alert-info\">\n",
    "<b>Комментарий студента №1</b>\n",
    "    \n",
    "Убрал матрицу корреляции.\n",
    "</div>"
   ]
  },
  {
   "cell_type": "markdown",
   "id": "c31134b0",
   "metadata": {},
   "source": [
    "<div class=\"alert alert-success\">\n",
    "<b>Комментарий ревьюера №2</b> ✅\n",
    "    \n",
    "👍\n",
    "</div>"
   ]
  },
  {
   "cell_type": "markdown",
   "id": "c32fcf24-ad16-4fe1-a040-6bd05e357918",
   "metadata": {},
   "source": [
    "**Вывод:**\n",
    "\n",
    "В исходных данных:\n",
    "- Нет пропущенных значений\n",
    "- Присутствуют дубликаты/совпадающие значения\n",
    "- Присутствуют выбросы\n",
    "\n",
    "Не будем проводить предобработку данных, так как в данном проекте это не принесет какого-то улучшения результатов."
   ]
  },
  {
   "cell_type": "markdown",
   "id": "c4100133",
   "metadata": {
    "id": "G7FtPJoCs5vr"
   },
   "source": [
    "<div class=\"alert alert-success\">\n",
    "<b>Комментарий ревьюера №1</b> ✅\n",
    "    \n",
    "Так как у нас нет id клиента и у нас мало столбцов и они достаточно общие, поэтому вполне возможно, что это не дубликаты, а просто совпадающие данные.\n",
    "</div>"
   ]
  },
  {
   "cell_type": "markdown",
   "id": "8215a93a-c68a-492f-966b-d7d4b744b17e",
   "metadata": {
    "tags": []
   },
   "source": [
    "<h2><a id='2'></a> Умножение матриц"
   ]
  },
  {
   "cell_type": "markdown",
   "id": "27415f20-7183-4931-b70b-5f078a5e52fd",
   "metadata": {},
   "source": [
    "**Обозначения:**\n",
    "\n",
    "- $X$ — матрица признаков (нулевой столбец состоит из единиц)\n",
    "\n",
    "- $y$ — вектор целевого признака\n",
    "\n",
    "- $P$ — матрица, на которую умножаются признаки\n",
    "\n",
    "- $w$ — вектор весов линейной регрессии (нулевой элемент равен сдвигу)"
   ]
  },
  {
   "cell_type": "markdown",
   "id": "5d2299f1-b5e2-4c07-91af-1d8defd8e563",
   "metadata": {},
   "source": [
    "**Формулы:**\n",
    "\n",
    "Предсказания:\n",
    "\n",
    "$$\n",
    "a = Xw\n",
    "$$\n",
    "\n",
    "Задача обучения:\n",
    "\n",
    "$$\n",
    "w = \\arg\\min_w MSE(Xw, y)\n",
    "$$\n",
    "\n",
    "Формула обучения:\n",
    "\n",
    "$$\n",
    "w = (X^T X)^{-1} X^T y\n",
    "$$"
   ]
  },
  {
   "cell_type": "markdown",
   "id": "b572c587-d426-4ea0-896e-2d3422a93b89",
   "metadata": {},
   "source": [
    "**Ответьте на вопрос и обоснуйте решение.**\n",
    "\n",
    "Признаки умножают на обратимую матрицу. Изменится ли качество линейной регрессии? (Её можно обучить заново.)\n",
    " \n",
    "a. Изменится. Приведите примеры матриц.\n",
    "\n",
    "b. Не изменится. Укажите, как связаны параметры линейной регрессии в исходной задаче и в преобразованной."
   ]
  },
  {
   "cell_type": "markdown",
   "id": "dd7a8b45",
   "metadata": {},
   "source": [
    "Разберемся, как изменение признаков путем умножения их на обратимую матрицу влияет на качество линейной регрессии.\n",
    "\n",
    "В исходной задаче:\n",
    "$$𝑤=(𝑋′^𝑇 𝑋′)^{−1} 𝑋′^𝑇𝑦$$\n",
    "\n",
    "При умножении признаков на матрицу 𝑃:\n",
    "$$𝑋′=𝑋𝑃$$\n",
    "\n",
    "Следовательно, уравнение для весов в преобразованных данных:\n",
    "$$𝑤′=((𝑋𝑃)^𝑇 𝑋𝑃)^{-1})(𝑋𝑃)^𝑇 𝑦$$\n",
    "\n",
    "Разложим данное выражение:\n",
    "$$𝑤′=(𝑃^𝑇 𝑋^𝑇 𝑋𝑃)^{−1} 𝑃^𝑇 𝑋^𝑇 𝑦$$\n",
    "\n",
    "Поскольку матрица 𝑃 обратима, мы можем использовать свойства обратных матриц и умножения матриц:\n",
    "$$𝑤′=𝑃^{−1}(𝑋^𝑇 𝑋)^{−1}(𝑃^𝑇)^{−1}𝑃^𝑇 𝑋^𝑇𝑦 = 𝑃^{−1}(𝑋^𝑇 𝑋)^{−1} 𝑋^𝑇 𝑦$$\n",
    "\n",
    "Теперь сравним это с исходным уравнением:\n",
    "$$𝑤 = (𝑋^𝑇 𝑋)^{−1} 𝑋^𝑇𝑦$$\n",
    "\n",
    "Мы видим, что связь между параметрами в исходной задаче и преобразованной задаче такова:\n",
    "$$𝑤′=𝑃^{−1} 𝑤$$\n",
    "\n",
    "Предсказание в линейной регрессии делается по формуле:\n",
    "$$ŷ=𝑋𝑤$$\n",
    "\n",
    "После умножения на обратимую матрицу 𝑃, матрица признаков становится 𝑋′=𝑋𝑃.\n",
    "Следовательно, новые предсказания будут:\n",
    "$$ŷ′=𝑋′𝑤′$$\n",
    "\n",
    "$$ŷ′=𝑋𝑃⋅𝑃^{−1} 𝑤=𝑋𝑤=ŷ$$\n",
    "\n",
    "Таким образом, умножение признаков на обратимую матрицу не изменяет качество линейной регрессии. Это происходит потому, что веса в преобразованной задаче можно выразить через веса исходной задачи, умноженные на обратную матрицу 𝑃. При этом предсказания, полученные на основе преобразованных данных, будут совпадать с предсказаниями, полученными на основе исходных данных. Это значит, что функция потерь (например, среднеквадратичная ошибка) останется неизменной, следовательно, и метрика качества модели не изменится. В итоге, преобразование данных умножением на обратимую матрицу сохраняет качество модели, предоставляя при этом дополнительные возможности для обеспечения безопасности или других операций с данными.\n",
    "\n",
    "**Ответ:**\n",
    "\n",
    "b. Не изменится. Параметры линейной регрессии в исходной задаче и в преобразованной связаны через умножение на матрицу 𝑃, но предсказания остаются такими же, как и до преобразования."
   ]
  },
  {
   "cell_type": "markdown",
   "id": "62b48580",
   "metadata": {},
   "source": [
    "<div class=\"alert alert-danger\">\n",
    "<b>Комментарий ревьюера №1</b> ❌\n",
    "    \n",
    "Добавь, пожалуйста, уравнение связи для параметров\n",
    "</div>"
   ]
  },
  {
   "cell_type": "markdown",
   "id": "1c27ebc4",
   "metadata": {},
   "source": [
    "<div class=\"alert alert-info\">\n",
    "<b>Комментарий студента №1</b>\n",
    "    \n",
    "Добавил.\n",
    "</div>"
   ]
  },
  {
   "cell_type": "markdown",
   "id": "84e93c08",
   "metadata": {},
   "source": [
    "<div class=\"alert alert-danger\">\n",
    "<b>Комментарий ревьюера №2</b> ❌\n",
    "    \n",
    "$w′=𝑃w$ - это неверно. Попробуй правильно раскрыть скобки в выражении $𝑤′=(𝑃^𝑇 𝑋^𝑇 𝑋𝑃)^{−1}𝑃^𝑇 𝑋^𝑇𝑦$\n",
    "</div>"
   ]
  },
  {
   "cell_type": "markdown",
   "id": "2d448a7e",
   "metadata": {},
   "source": [
    "<div class=\"alert alert-danger\">\n",
    "<b>Комментарий ревьюера №3</b> ❌\n",
    "    \n",
    "Поскольку $𝑤′=((𝑋𝑃)^𝑇 𝑋𝑃)^{-1})(𝑋𝑃)^𝑇 𝑦 = (𝑃^𝑇 𝑋^𝑇 𝑋𝑃)^{−1}𝑃^𝑇 𝑋^𝑇𝑦 = 𝑃^{−1}(𝑋^𝑇 𝑋)^{−1}(𝑃^𝑇)^{−1}𝑃^𝑇 𝑋^𝑇𝑦 = 𝑃^{−1}(𝑋^𝑇 𝑋)^{−1} 𝑋^𝑇𝑦$\n",
    "\n",
    "А $w = (𝑋^𝑇 𝑋)^{−1} 𝑋^𝑇𝑦$, то связь между параметрами\n",
    "    \n",
    "$𝑤′ = 𝑃^{−1}w$\n",
    "</div>"
   ]
  },
  {
   "cell_type": "markdown",
   "id": "4ca3faff",
   "metadata": {},
   "source": [
    "<div class=\"alert alert-success\">\n",
    "<b>Комментарий ревьюера №4</b> ✅\n",
    "    \n",
    "Теперь верно\n",
    "</div>"
   ]
  },
  {
   "cell_type": "markdown",
   "id": "c3538c36-7d06-44e5-a16f-32de6acea579",
   "metadata": {},
   "source": [
    "<h2><a id='3'></a> Алгоритм преобразования"
   ]
  },
  {
   "cell_type": "markdown",
   "id": "af433401-a2c8-4798-9368-e2447bbc9703",
   "metadata": {},
   "source": [
    "**Алгоритм:**\n",
    "\n",
    "Для того, чтобы обеспечить конфиденциальность данных без ухудшения качества работы линейной регрессии, можно преобразовать исходные данные, умножив их на обратимую матрицу. Преобразование с использованием обратимой матрицы является обратимым, что позволяет восстановить исходные данные при необходимости.\n",
    "\n",
    "Алгоритм преобразования данных:\n",
    "\n",
    "- Выбрать или сгенерировать обратимую матрицу P размером n×n, где n - количество признаков в исходных данных.\n",
    "- Умножить исходную матрицу признаков X на матрицу P для получения преобразованной матрицы X′.\n",
    "- Произвести обучение линейной регрессии на преобразованных данных."
   ]
  },
  {
   "cell_type": "markdown",
   "id": "16ed1a6b",
   "metadata": {},
   "source": [
    "<div class=\"alert alert-success\">\n",
    "<b>Комментарий ревьюера №1</b> ✅\n",
    "    \n",
    "👍\n",
    "</div>"
   ]
  },
  {
   "cell_type": "markdown",
   "id": "8c4f0484-d10e-4085-9e9f-6cde6c87b0da",
   "metadata": {},
   "source": [
    "**Обоснование:**\n",
    "\n",
    "При умножении исходных данных на обратимую матрицу, предсказания линейной регрессии остаются без изменений. Это мы доказали в предыдущем блоке.\n",
    "\n",
    "Полученное выражение идентично тому, что было бы при обучении на исходных данных, что гарантирует сохранение качества предсказаний линейной регрессии.\n",
    "\n",
    "Таким образом, преобразование данных с помощью умножения на обратимую матрицу обеспечивает сохранение качества линейной регрессии и одновременно позволяет сделать данные менее интерпретируемыми для посторонних лиц."
   ]
  },
  {
   "cell_type": "markdown",
   "id": "f710e688-6b37-4731-a4ad-09525b75e07c",
   "metadata": {},
   "source": [
    "**Подтвердим наше объяснение на практике. Для этого:**\n",
    "\n",
    "- Создадим исходные данные X и целевую переменную y.\n",
    "- Умножим X на случайную обратимую матрицу P.\n",
    "- Обучим линейную регрессию на исходных данных и на преобразованных.\n",
    "- Сравним предсказания обеих моделей."
   ]
  },
  {
   "cell_type": "code",
   "execution_count": 4,
   "id": "9bb41bb9-3be0-4ef3-9713-fdfa101f1c9a",
   "metadata": {},
   "outputs": [
    {
     "name": "stdout",
     "output_type": "stream",
     "text": [
      "MSE for original data: 0.08616440649094076\n",
      "MSE for transformed data: 0.08616440649094079\n",
      "Разница: -2.7755575615628914e-17\n"
     ]
    }
   ],
   "source": [
    "# случайные данные\n",
    "np.random.seed(43)\n",
    "\n",
    "X = np.random.rand(100, 3) \n",
    "y = np.random.rand(100, 1)\n",
    "\n",
    "# добавляем столбец с единицами к исходным данным\n",
    "X = np.hstack((np.ones((100,1)), X))\n",
    "\n",
    "# обратимая матрица P\n",
    "P = np.random.rand(3, 3)\n",
    "while np.linalg.det(P) == 0:  # проверка на обратимость\n",
    "    P = np.random.rand(3, 3)\n",
    "\n",
    "P_with_bias = np.eye(4)  # создание единичной матрицы размером 4x4\n",
    "P_with_bias[1:4, 1:4] = P  # замена нижнего правого 3x3 блока на матрицу P\n",
    "\n",
    "# преобразование данных\n",
    "X_transformed = X @ P_with_bias\n",
    "\n",
    "# обучение линейной регрессии на исходных данных\n",
    "w = np.linalg.inv(X.T @ X) @ X.T @ y\n",
    "\n",
    "# обучение линейной регрессии на преобразованных данных\n",
    "w_transformed = np.linalg.inv(X_transformed.T @ X_transformed) @ X_transformed.T @ y\n",
    "\n",
    "# предсказания для исходных и преобразованных данных\n",
    "y_pred = X @ w\n",
    "y_pred_transformed = X_transformed @ w_transformed\n",
    "\n",
    "# сравнение предсказаний\n",
    "mse_original = np.mean((y - y_pred)**2)\n",
    "mse_transformed = np.mean((y - y_pred_transformed)**2)\n",
    "\n",
    "print(f\"MSE for original data: {mse_original}\")\n",
    "print(f\"MSE for transformed data: {mse_transformed}\")\n",
    "print(f'Разница: {mse_original-mse_transformed}')"
   ]
  },
  {
   "cell_type": "markdown",
   "id": "32a93bae",
   "metadata": {},
   "source": [
    "<div class=\"alert alert-danger\">\n",
    "<b>Комментарий ревьюера №1</b> ❌\n",
    "    \n",
    "Здесь ты не учитываешь добавление столбца с единицами к признакам\n",
    "</div>"
   ]
  },
  {
   "cell_type": "markdown",
   "id": "941799bb",
   "metadata": {},
   "source": [
    "<div class=\"alert alert-info\">\n",
    "<b>Комментарий студента №1</b>\n",
    "    \n",
    "Добавил столбец с единицами.\n",
    "</div>"
   ]
  },
  {
   "cell_type": "markdown",
   "id": "d9ee1113",
   "metadata": {},
   "source": [
    "<div class=\"alert alert-warning\">\n",
    "<b>Комментарий ревьюера №2</b> ⚠️\n",
    "    \n",
    "Все библиотеки нужно импортировать в одной ячейке в начале всего кода, это соответствует стилистическому гайду <a href=\"https://peps.python.org/pep-0008/\">pep 8</a>\n",
    "</div>"
   ]
  },
  {
   "cell_type": "markdown",
   "id": "1eb675fa-5fe8-4551-bb92-7463855e2aaa",
   "metadata": {},
   "source": [
    "Видно, что MSE для исходных и преобразованных данных очень близки, что подтверждает наше теоретическое обоснование."
   ]
  },
  {
   "cell_type": "markdown",
   "id": "e4227c4e-4dae-45c1-ab26-b82eedd3bda8",
   "metadata": {},
   "source": [
    "<h2><a id='4'></a> Проверка алгоритма"
   ]
  },
  {
   "cell_type": "markdown",
   "id": "2d438ac6-053a-4566-a307-ab3107e2fceb",
   "metadata": {},
   "source": [
    "Запрограммируем этот алгоритм, применив матричные операции. Проверим, что качество линейной регрессии из sklearn не отличается до и после преобразования. Применим метрику R2."
   ]
  },
  {
   "cell_type": "code",
   "execution_count": 5,
   "id": "052cae3a-3e37-487f-b755-b4ce5b157889",
   "metadata": {},
   "outputs": [
    {
     "name": "stdout",
     "output_type": "stream",
     "text": [
      "R2 на исходных данных: 0.4249455028666801\n",
      "R2 на преобразованных данных: 0.4249455028666802\n"
     ]
    }
   ],
   "source": [
    "class DataTransformer:\n",
    "    # инициализация основных атрибутов: признаки и целевая переменная\n",
    "    def __init__(self, df):\n",
    "        self.features = df.drop(['Страховые выплаты'], axis=1).values\n",
    "        self.target = df['Страховые выплаты'].values\n",
    "        self.P = None\n",
    "\n",
    "    # генерация обратимой матрицы для преобразования данных\n",
    "    def generate_transform_matrix(self):\n",
    "        n_features = self.features.shape[1]\n",
    "        P = np.random.rand(n_features, n_features)\n",
    "        while np.linalg.det(P) == 0:\n",
    "            P = np.random.rand(n_features, n_features)\n",
    "        self.P = P\n",
    "\n",
    "    # преобразование данных с использованием матрицы P\n",
    "    def transform_data(self):\n",
    "        return self.features.dot(self.P)\n",
    "    \n",
    "    # обучение и проверка качества линейной регрессии на исходных и преобразованных данных\n",
    "    def test_regression_quality(self):\n",
    "        # обучение на исходных данных\n",
    "        model_original = LinearRegression().fit(self.features, self.target)\n",
    "        predictions_original = model_original.predict(self.features)\n",
    "        \n",
    "        # обучение на преобразованных данных\n",
    "        transformed_features = self.transform_data()\n",
    "        model_transformed = LinearRegression().fit(transformed_features, self.target)\n",
    "        predictions_transformed = model_transformed.predict(transformed_features)\n",
    "\n",
    "        # R2 для обеих моделей\n",
    "        r2_original = r2_score(self.target, predictions_original)\n",
    "        r2_transformed = r2_score(self.target, predictions_transformed)\n",
    "\n",
    "        return r2_original, r2_transformed\n",
    "\n",
    "# тестирование\n",
    "transformer = DataTransformer(df)\n",
    "transformer.generate_transform_matrix()\n",
    "r2_original, r2_transformed = transformer.test_regression_quality()\n",
    "\n",
    "print(f\"R2 на исходных данных: {r2_original}\")\n",
    "print(f\"R2 на преобразованных данных: {r2_transformed}\")"
   ]
  },
  {
   "cell_type": "markdown",
   "id": "9d584124-2dea-47b2-814d-e37b8d97c5cf",
   "metadata": {},
   "source": [
    "<h2> Вывод"
   ]
  },
  {
   "cell_type": "markdown",
   "id": "c625c69c-0338-4552-a765-8cdb713fa1cf",
   "metadata": {},
   "source": [
    "По итогам проекта, можно предложить умножение признаков на обратимую матрицу в качестве метода защиты данных для компании «Хоть потоп». \n",
    "\n",
    "Этот метод работает, потому что умножение на обратимую матрицу является обратимой операцией. То есть можно вернуться к исходной матрице признаков, умножив преобразованную матрицу на обратную матрицу к той, которая использовалась для преобразования.\n",
    "\n",
    "Для задач машинного обучения это преобразование обычно \"безопасно\" в том смысле, что качество модели на преобразованных данных будет таким же, как и на исходных данных. Это потому, что линейные алгоритмы регрессии не чувствительны к таким линейным преобразованиям.\n",
    "\n",
    "В заключение, умножение на обратимую матрицу может служить полезным инструментом для анонимизации данных, но необходимо убедиться, что матрица и ее обратная версия хранятся в безопасном месте."
   ]
  },
  {
   "cell_type": "markdown",
   "id": "da3664f5",
   "metadata": {
    "id": "Jjmfk0gWxnuC"
   },
   "source": [
    "<div class=\"alert alert-block alert-success\">\n",
    "    \n",
    "**Комментарий ревьюера №1** ✅\n",
    "\n",
    "Верно, качество предсказания действительно не изменяется. Незначительное различие вызвано особенностями преобразования матриц и чисел с плавающей точкой. В случае домножения матрицы признаков на случайную обратимую матрицу можно обеспечить защиту данных. Можно также попробовать декодировать данные обратно.\n",
    "</div>"
   ]
  },
  {
   "cell_type": "markdown",
   "id": "14660f60",
   "metadata": {},
   "source": [
    "<div style=\"border:solid purple 2px; padding: 20px\"> \n",
    "<b> <font color='purple' >   \n",
    "В целом, работа хорошая. Ты молодец! Остались небольшие доработки. Нужно доработать теоретическое доказательство и обоснование алгоритма преобразований. Доделывай и присылай на повторную проверку.\n",
    "\n",
    "Жду твоих исправлений 😊\n",
    "</font></b>\n",
    "</div>"
   ]
  },
  {
   "cell_type": "markdown",
   "id": "7f489bbc",
   "metadata": {},
   "source": [
    "<div class=\"alert alert-info\">\n",
    "<b>Комментарий студента №1</b>\n",
    "    \n",
    "Привет! Спасибо за фидбэк. Замечания поправил и отметил это комментариями.\n",
    "</div>"
   ]
  },
  {
   "cell_type": "markdown",
   "id": "67b65dce",
   "metadata": {},
   "source": [
    "<div style=\"border:solid purple 2px; padding: 20px\"> \n",
    "<b> <font color='purple' >   \n",
    "    \n",
    "Отлично! Проект принят! 👏 Поздравляю и желаю удачи!\n",
    "    \n",
    "    \n",
    "Оставлю несколько дополнительных материалов. Теория по обратным матрицам: https://www.berdov.com/works/matrix/obratnaya-matrica/. Обзоры по применению криптографии в машинном обучении: https://arxiv.org/pdf/1902.04109.pdf, https://www.researchgate.net/publication/342746786_Some_Applications_of_Machine_Learning_in_Cryptography\n",
    "Подробнее про аналогичный алгоритм: https://www.cs.cmu.edu/~rjhall/JOS_revised_May_31a.pdf\n",
    "</font></b>\n",
    "</div>"
   ]
  }
 ],
 "metadata": {
  "ExecuteTimeLog": [
   {
    "duration": 2539,
    "start_time": "2023-08-18T11:08:51.936Z"
   },
   {
    "duration": 133,
    "start_time": "2023-08-18T11:08:54.477Z"
   },
   {
    "duration": 1846,
    "start_time": "2023-08-18T11:08:54.612Z"
   },
   {
    "duration": 9,
    "start_time": "2023-08-18T11:08:56.461Z"
   },
   {
    "duration": 192,
    "start_time": "2023-08-18T11:08:56.471Z"
   },
   {
    "duration": 7,
    "start_time": "2023-08-18T11:47:01.104Z"
   },
   {
    "duration": 4,
    "start_time": "2023-08-18T11:47:08.840Z"
   },
   {
    "duration": 5,
    "start_time": "2023-08-18T11:47:19.541Z"
   },
   {
    "duration": 6,
    "start_time": "2023-08-18T11:47:27.608Z"
   },
   {
    "duration": 4,
    "start_time": "2023-08-18T11:47:29.936Z"
   },
   {
    "duration": 2119,
    "start_time": "2023-08-18T11:48:05.615Z"
   },
   {
    "duration": 78,
    "start_time": "2023-08-18T11:48:07.736Z"
   },
   {
    "duration": 1843,
    "start_time": "2023-08-18T11:48:07.816Z"
   },
   {
    "duration": 7,
    "start_time": "2023-08-18T11:48:09.661Z"
   },
   {
    "duration": 12,
    "start_time": "2023-08-18T11:48:09.670Z"
   },
   {
    "duration": 168,
    "start_time": "2023-08-18T11:48:09.685Z"
   },
   {
    "duration": 2227,
    "start_time": "2023-08-18T11:53:01.361Z"
   },
   {
    "duration": 66,
    "start_time": "2023-08-18T11:53:03.590Z"
   },
   {
    "duration": 1825,
    "start_time": "2023-08-18T11:53:03.658Z"
   },
   {
    "duration": 7,
    "start_time": "2023-08-18T11:53:05.486Z"
   },
   {
    "duration": 159,
    "start_time": "2023-08-18T11:53:05.495Z"
   },
   {
    "duration": 2193,
    "start_time": "2023-08-18T12:02:05.671Z"
   },
   {
    "duration": 76,
    "start_time": "2023-08-18T12:02:07.866Z"
   },
   {
    "duration": 1827,
    "start_time": "2023-08-18T12:02:07.944Z"
   },
   {
    "duration": 6,
    "start_time": "2023-08-18T12:02:09.773Z"
   },
   {
    "duration": 77,
    "start_time": "2023-08-18T12:02:09.781Z"
   },
   {
    "duration": 1663,
    "start_time": "2023-08-18T16:53:31.473Z"
   },
   {
    "duration": 115,
    "start_time": "2023-08-18T16:53:33.138Z"
   },
   {
    "duration": 1867,
    "start_time": "2023-08-18T16:53:33.254Z"
   },
   {
    "duration": 118,
    "start_time": "2023-08-18T16:53:35.123Z"
   },
   {
    "duration": 0,
    "start_time": "2023-08-18T16:53:35.243Z"
   },
   {
    "duration": 14,
    "start_time": "2023-08-18T16:54:28.120Z"
   },
   {
    "duration": 16,
    "start_time": "2023-08-18T16:55:30.392Z"
   },
   {
    "duration": 9,
    "start_time": "2023-08-18T16:55:34.703Z"
   },
   {
    "duration": 2243,
    "start_time": "2023-08-18T17:24:41.751Z"
   },
   {
    "duration": 173,
    "start_time": "2023-08-18T17:24:43.996Z"
   },
   {
    "duration": 1709,
    "start_time": "2023-08-18T17:24:44.170Z"
   },
   {
    "duration": 10,
    "start_time": "2023-08-18T17:24:45.881Z"
   },
   {
    "duration": 192,
    "start_time": "2023-08-18T17:24:45.893Z"
   },
   {
    "duration": 7,
    "start_time": "2023-08-18T17:32:06.533Z"
   },
   {
    "duration": 2,
    "start_time": "2023-08-18T17:32:42.060Z"
   },
   {
    "duration": 4,
    "start_time": "2023-08-18T17:32:51.094Z"
   },
   {
    "duration": 3,
    "start_time": "2023-08-18T17:33:19.847Z"
   },
   {
    "duration": 5,
    "start_time": "2023-08-18T17:33:26.525Z"
   },
   {
    "duration": 7,
    "start_time": "2023-08-18T17:34:14.405Z"
   },
   {
    "duration": 7,
    "start_time": "2023-08-18T17:34:24.842Z"
   },
   {
    "duration": 4,
    "start_time": "2023-08-18T17:36:52.769Z"
   },
   {
    "duration": 121,
    "start_time": "2023-08-18T17:46:01.596Z"
   },
   {
    "duration": 4,
    "start_time": "2023-08-18T17:46:07.671Z"
   },
   {
    "duration": 8,
    "start_time": "2023-08-18T17:46:29.828Z"
   },
   {
    "duration": 7,
    "start_time": "2023-08-18T17:48:49.127Z"
   },
   {
    "duration": 2222,
    "start_time": "2023-08-18T19:39:12.387Z"
   },
   {
    "duration": 82,
    "start_time": "2023-08-18T19:39:14.611Z"
   },
   {
    "duration": 1881,
    "start_time": "2023-08-18T19:39:14.694Z"
   },
   {
    "duration": 9,
    "start_time": "2023-08-18T19:39:16.577Z"
   },
   {
    "duration": 109,
    "start_time": "2023-08-18T19:39:16.588Z"
   },
   {
    "duration": 2128,
    "start_time": "2023-08-18T23:52:15.744Z"
   },
   {
    "duration": 85,
    "start_time": "2023-08-18T23:52:17.874Z"
   },
   {
    "duration": 1590,
    "start_time": "2023-08-18T23:52:17.960Z"
   },
   {
    "duration": 8,
    "start_time": "2023-08-18T23:52:19.552Z"
   },
   {
    "duration": 25,
    "start_time": "2023-08-18T23:52:19.562Z"
   },
   {
    "duration": 2246,
    "start_time": "2023-08-18T23:56:00.608Z"
   },
   {
    "duration": 81,
    "start_time": "2023-08-18T23:56:02.855Z"
   },
   {
    "duration": 1758,
    "start_time": "2023-08-18T23:56:02.937Z"
   },
   {
    "duration": 107,
    "start_time": "2023-08-18T23:56:04.697Z"
   },
   {
    "duration": 0,
    "start_time": "2023-08-18T23:56:04.805Z"
   },
   {
    "duration": 0,
    "start_time": "2023-08-18T23:56:04.806Z"
   },
   {
    "duration": 2071,
    "start_time": "2023-08-19T13:19:58.801Z"
   },
   {
    "duration": 68,
    "start_time": "2023-08-19T13:20:00.874Z"
   },
   {
    "duration": 1701,
    "start_time": "2023-08-19T13:20:00.943Z"
   },
   {
    "duration": 9,
    "start_time": "2023-08-19T13:20:02.646Z"
   },
   {
    "duration": 103,
    "start_time": "2023-08-19T13:20:02.657Z"
   }
  ],
  "kernelspec": {
   "display_name": "Python 3 (ipykernel)",
   "language": "python",
   "name": "python3"
  },
  "language_info": {
   "codemirror_mode": {
    "name": "ipython",
    "version": 3
   },
   "file_extension": ".py",
   "mimetype": "text/x-python",
   "name": "python",
   "nbconvert_exporter": "python",
   "pygments_lexer": "ipython3",
   "version": "3.9.5"
  },
  "toc": {
   "base_numbering": 1,
   "nav_menu": {},
   "number_sections": true,
   "sideBar": true,
   "skip_h1_title": true,
   "title_cell": "Table of Contents",
   "title_sidebar": "Contents",
   "toc_cell": false,
   "toc_position": {},
   "toc_section_display": true,
   "toc_window_display": false
  }
 },
 "nbformat": 4,
 "nbformat_minor": 5
}
